{
 "cells": [
  {
   "cell_type": "markdown",
   "metadata": {},
   "source": [
    "# Ceneo Scraper\n",
    "**Struktura opinii w serwisie ceneo.pl:**\n",
    "|Składowa|Selektor|Zmienna|\n",
    "|--------|--------|--------|\n",
    "|*identyfikator opinii*|[\"data-entry-id\"]|`opinion_id`|\n",
    "|*autora*|span.user-post__author-name|`author`|\n",
    "|*rekomendację*|span.user-post__author-recomendation > em|`recommend`|\n",
    "|*liczbę gwiazdek*|span.user-post__score-count|`stars`|\n",
    "|*treść opinii*|div.user-post__text|`content`|\n",
    "|*listę wad*|div.review-feature__title review-feature__title--negatives ~ div.review-feature__item|`cons`|\n",
    "|*listę zalet*|div.review-feature__title review-feature__title--positives ~ div.review-feature__item|`pros`|\n",
    "|*data wystawienia opinii*|span.user-post__published > time:nth-child(1)[\"datetime\"]|`opinion_date`|\n",
    "|*data zakupu produktu*|span.user-post__published > time:nth-child(2)[\"datetime\"]|`purchase_date`|\n",
    "|*ile osób uznało opinię za przydatną*|button.vote-yes[\"data-total-vote\"]|`upvote`|\n",
    "|*ile osób uznało opinię za nieprzydatną*|button.vote-no[\"data-total-vote\"]|`downvote`|\n",
    "\n",
    "### 1. Import bibliotek"
   ]
  },
  {
   "cell_type": "code",
   "execution_count": 1,
   "metadata": {},
   "outputs": [],
   "source": [
    "import requests\n",
    "from bs4 import BeautifulSoup\n",
    "import json\n",
    "import os"
   ]
  },
  {
   "cell_type": "code",
   "execution_count": 2,
   "metadata": {},
   "outputs": [],
   "source": [
    "selectors = {\n",
    "    'opinion_id': (None, \"data-entry-id\"),\n",
    "    'author': (\"span.user-post__author-name\",),\n",
    "    'recommend': (\"span.user-post__author-recomendation > em\",),\n",
    "    'stars': (\"span.user-post__score-count\",),\n",
    "    'content': (\"div.user-post__text\",),\n",
    "    'cons': (\"div.review-feature__title--negatives ~ div.review-feature__item\", None, True),\n",
    "    'pros': (\"div.review-feature__title--positives ~ div.review-feature__item\", None, True),\n",
    "    'opinion_date': (\"span.user-post__published > time:nth-child(1)\", \"datetime\"),\n",
    "    'purchase_date': (\"span.user-post__published > time:nth-child(2)\", \"datetime\"),\n",
    "    'upvote': (\"button.vote-yes\", \"data-total-vote\"),\n",
    "    'downvote': (\"button.vote-no\", \"data-total-vote\")\n",
    "}"
   ]
  },
  {
   "cell_type": "markdown",
   "metadata": {},
   "source": [
    "### Do wydobycia danych "
   ]
  },
  {
   "cell_type": "code",
   "execution_count": 3,
   "metadata": {},
   "outputs": [],
   "source": [
    "def extract(ancestor, selector=None, attribute=None, return_list=False):\n",
    "    if return_list:\n",
    "        if attribute:\n",
    "            return [tag[attribute].strip() for tag in ancestor.select(selector)]\n",
    "        return [tag.text.strip() for tag in ancestor.select(selector)]\n",
    "    if selector:\n",
    "        if attribute:\n",
    "            try:\n",
    "                return ancestor.select_one(selector)[attribute].strip()\n",
    "            except TypeError:\n",
    "                return None\n",
    "        try:\n",
    "            return ancestor.select_one(selector).text.strip()\n",
    "        except AttributeError:\n",
    "            return None\n",
    "    if attribute:\n",
    "        return ancestor[attribute].strip()\n",
    "    return ancestor.text.strip()"
   ]
  },
  {
   "cell_type": "markdown",
   "metadata": {},
   "source": [
    "### 2. Przypisanie adresu url do zmiennej"
   ]
  },
  {
   "cell_type": "code",
   "execution_count": 4,
   "metadata": {},
   "outputs": [],
   "source": [
    "#product_id = \"151210226\"\n",
    "product_id = input(\"Podaj kod produktu: \")\n",
    "url = f\"https://www.ceneo.pl/{product_id}#tab=reviews\""
   ]
  },
  {
   "cell_type": "markdown",
   "metadata": {},
   "source": [
    "### 3. Pobranie wszystkich opinii o wskazanym produkcie"
   ]
  },
  {
   "cell_type": "code",
   "execution_count": 5,
   "metadata": {},
   "outputs": [],
   "source": [
    "all_opinions = []\n",
    "while(url):\n",
    "    response = requests.get(url)\n",
    "    content = response.text\n",
    "    page = BeautifulSoup(content, \"html.parser\")\n",
    "    opinions = page.select(\"div.js_product-review\")\n",
    "    for opinion in opinions:\n",
    "        single_opinion = {\n",
    "            key: extract(opinion, *value)\n",
    "                for key, value in selectors.items()\n",
    "        }\n",
    "        all_opinions.append(single_opinion)\n",
    "    try:\n",
    "        url = \"https://ceneo.pl\" + extract(page, \"a.pagination__next\", \"href\")\n",
    "    except TypeError:\n",
    "        url = None"
   ]
  },
  {
   "cell_type": "markdown",
   "metadata": {},
   "source": [
    "### 4. Zapis opinii o produkcie do pliku JSON"
   ]
  },
  {
   "cell_type": "code",
   "execution_count": 6,
   "metadata": {},
   "outputs": [],
   "source": [
    "if not os.path.exists('opinions'):\n",
    "    os.mkdir('opinions')\n",
    "\n",
    "with open(f'opinions/{product_id}.json', 'w', encoding=\"UTF-8\") as file:\n",
    "    json.dump(all_opinions, file, indent=4, ensure_ascii=False)"
   ]
  }
 ],
 "metadata": {
  "kernelspec": {
   "display_name": ".venv",
   "language": "python",
   "name": "python3"
  },
  "language_info": {
   "codemirror_mode": {
    "name": "ipython",
    "version": 3
   },
   "file_extension": ".py",
   "mimetype": "text/x-python",
   "name": "python",
   "nbconvert_exporter": "python",
   "pygments_lexer": "ipython3",
   "version": "3.11.5"
  }
 },
 "nbformat": 4,
 "nbformat_minor": 2
}
